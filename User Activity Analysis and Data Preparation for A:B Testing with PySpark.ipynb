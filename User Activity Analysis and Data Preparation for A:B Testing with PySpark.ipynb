{
  "nbformat": 4,
  "nbformat_minor": 0,
  "metadata": {
    "colab": {
      "provenance": []
    },
    "kernelspec": {
      "name": "python3",
      "display_name": "Python 3"
    },
    "language_info": {
      "name": "python"
    }
  },
  "cells": [
    {
      "cell_type": "code",
      "source": [
        "!pip install pyspark"
      ],
      "metadata": {
        "colab": {
          "base_uri": "https://localhost:8080/"
        },
        "id": "29EmwlJegFf2",
        "outputId": "ef762f8c-179d-47c5-c6be-dcc8b9c5d4c3"
      },
      "execution_count": 1,
      "outputs": [
        {
          "output_type": "stream",
          "name": "stdout",
          "text": [
            "Collecting pyspark\n",
            "  Downloading pyspark-3.5.1.tar.gz (317.0 MB)\n",
            "\u001b[2K     \u001b[90m━━━━━━━━━━━━━━━━━━━━━━━━━━━━━━━━━━━━━━━━\u001b[0m \u001b[32m317.0/317.0 MB\u001b[0m \u001b[31m1.9 MB/s\u001b[0m eta \u001b[36m0:00:00\u001b[0m\n",
            "\u001b[?25h  Preparing metadata (setup.py) ... \u001b[?25l\u001b[?25hdone\n",
            "Requirement already satisfied: py4j==0.10.9.7 in /usr/local/lib/python3.10/dist-packages (from pyspark) (0.10.9.7)\n",
            "Building wheels for collected packages: pyspark\n",
            "  Building wheel for pyspark (setup.py) ... \u001b[?25l\u001b[?25hdone\n",
            "  Created wheel for pyspark: filename=pyspark-3.5.1-py2.py3-none-any.whl size=317488491 sha256=c1fc806b528f26c5508af98be16defc034eeaa801ce5f5b5641b70b4e0f01c2e\n",
            "  Stored in directory: /root/.cache/pip/wheels/80/1d/60/2c256ed38dddce2fdd93be545214a63e02fbd8d74fb0b7f3a6\n",
            "Successfully built pyspark\n",
            "Installing collected packages: pyspark\n",
            "Successfully installed pyspark-3.5.1\n"
          ]
        }
      ]
    },
    {
      "cell_type": "code",
      "source": [
        "from pyspark.sql import SparkSession\n",
        "from pyspark.sql.functions import col, to_date, countDistinct, when\n",
        "from pyspark.sql import functions as F"
      ],
      "metadata": {
        "id": "rsV79MyzgAyI"
      },
      "execution_count": 2,
      "outputs": []
    },
    {
      "cell_type": "code",
      "source": [
        "# Create a SparkSession object\n",
        "spark = SparkSession.builder \\\n",
        "    .appName(\"Amazon Tweets Analysis\") \\\n",
        "    .master(\"local[2]\") \\\n",
        "    .config(\"spark.executor.memory\", \"2g\") \\\n",
        "    .getOrCreate()"
      ],
      "metadata": {
        "id": "Kou-hp7g243r"
      },
      "execution_count": 3,
      "outputs": []
    },
    {
      "cell_type": "markdown",
      "source": [
        "**Step 1:** Find out the users who are active in at least five listed days (i.e., created posts in at least 5 days) in Amazon_Responded_Oct05.csv and save their “user_screen_name” and “user_id_str” in the dataframe “daily_active_users” (see below). Report how many active users you find."
      ],
      "metadata": {
        "id": "8Z33UeRGXGzn"
      }
    },
    {
      "cell_type": "code",
      "execution_count": 37,
      "metadata": {
        "colab": {
          "base_uri": "https://localhost:8080/"
        },
        "id": "heo3o66seouc",
        "outputId": "3526976b-73ba-44cb-c6f3-1efe7f010a2b"
      },
      "outputs": [
        {
          "output_type": "stream",
          "name": "stdout",
          "text": [
            "+--------------------+--------------------+----------------+-----------+-------------------+---------------------+--------------+-----------------+--------------+--------------------+-------------+-------------+--------------------+------------------+--------------------+--------------+--------------------+--------------+---------+-----------------------+-------------------------+-----------------------+-------------+---------+--------------------+\n",
            "|              id_str|    tweet_created_at|user_screen_name|user_id_str|user_statuses_count|user_favourites_count|user_protected|user_listed_count|user_following|    user_description|user_location|user_verified|user_followers_count|user_friends_count|     user_created_at|tweet_language|               text_|favorite_count|favorited|in_reply_to_screen_name|in_reply_to_status_id_str|in_reply_to_user_id_str|retweet_count|retweeted|                text|\n",
            "+--------------------+--------------------+----------------+-----------+-------------------+---------------------+--------------+-----------------+--------------+--------------------+-------------+-------------+--------------------+------------------+--------------------+--------------+--------------------+--------------+---------+-----------------------+-------------------------+-----------------------+-------------+---------+--------------------+\n",
            "|'793270689780203520'|Tue Nov 01 01:57:...|     SeanEPanjab|  143515471|              51287|                 4079|         False|               74|         False|Content marketer;...|   غریب الوطن|        False|                1503|               850|Thu May 13 17:43:...|            en|@AmazonHelp Can y...|             0|    False|             AmazonHelp|                     NULL|               85741735|            0|    False|                NULL|\n",
            "|'793281386912354304'|Tue Nov 01 02:39:...|      AmazonHelp|   85741735|            2225450|                11366|         False|              796|         False|We answer Amazon ...|         NULL|         True|              149569|                53|Wed Oct 28 04:17:...|            en|@SeanEPanjab I'm ...|             0|    False|            SeanEPanjab|     7.932706897802035...|              143515471|            0|    False|                NULL|\n",
            "|'793501578766319616'|Tue Nov 01 17:14:...|     SeanEPanjab|  143515471|              51287|                 4079|         False|               74|         False|Content marketer;...|   غریب الوطن|        False|                1503|               850|Thu May 13 17:43:...|            en|@AmazonHelp It wa...|             0|    False|             AmazonHelp|     7.932813869123543...|               85741735|            0|    False|@AmazonHelp It wa...|\n",
            "|'793501657346682880'|Tue Nov 01 17:15:...|     SeanEPanjab|  143515471|              51287|                 4079|         False|               74|         False|Content marketer;...|   غریب الوطن|        False|                1503|               850|Thu May 13 17:43:...|            en|@AmazonHelp I am ...|             0|    False|             AmazonHelp|     7.932813869123543...|               85741735|            0|    False|                NULL|\n",
            "|'793502854459879424'|Tue Nov 01 17:19:...|      AmazonHelp|   85741735|            2225450|                11366|         False|              796|         False|We answer Amazon ...|         NULL|         True|              149569|                53|Wed Oct 28 04:17:...|            en|@SeanEPanjab Plea...|             0|    False|            SeanEPanjab|     7.935015787663196...|              143515471|            0|    False|@SeanEPanjab Plea...|\n",
            "|'793504235400884224'|Tue Nov 01 17:25:...|      AmazonHelp|   85741735|            2225450|                11366|         False|              796|         False|We answer Amazon ...|         NULL|         True|              149569|                53|Wed Oct 28 04:17:...|            en|@SeanEPanjab With...|             0|    False|            SeanEPanjab|     7.935016573466829...|              143515471|            0|    False|                NULL|\n",
            "|'793511847899070465'|Tue Nov 01 17:55:...|     SeanEPanjab|  143515471|              51287|                 4079|         False|               74|         False|Content marketer;...|   غریب الوطن|        False|                1503|               850|Thu May 13 17:43:...|            en|@AmazonHelp It wa...|             0|    False|             AmazonHelp|     7.935042354008842...|               85741735|            0|    False|                NULL|\n",
            "|'793511899279208449'|Tue Nov 01 17:55:...|     SeanEPanjab|  143515471|              51287|                 4079|         False|               74|         False|Content marketer;...|   غریب الوطن|        False|                1503|               850|Thu May 13 17:43:...|            en|@AmazonHelp if it...|             0|    False|             AmazonHelp|     7.935042354008842...|               85741735|            0|    False|                NULL|\n",
            "|'793513446633533440'|Tue Nov 01 18:02:...|      AmazonHelp|   85741735|            2225450|                11366|         False|              796|         False|We answer Amazon ...|         NULL|         True|              149569|                53|Wed Oct 28 04:17:...|            en|@SeanEPanjab I'm ...|             0|    False|            SeanEPanjab|     7.935118992792084...|              143515471|            0|    False|@SeanEPanjab I'm ...|\n",
            "|'793299404975247360'|Tue Nov 01 03:51:...|   aakashwangnoo|   71457972|                592|                  471|         False|               11|         False|Don't try to be G...|    New Delhi|        False|                 234|                57|Fri Sep 04 04:55:...|            en|@JeffBezos @amazo...|             0|    False|              JeffBezos|                     NULL|               15506669|            0|    False|                NULL|\n",
            "|'793301295255945216'|Tue Nov 01 03:59:...|      AmazonHelp|   85741735|            2225442|                11366|         False|              796|         False|We answer Amazon ...|         NULL|         True|              149568|                53|Wed Oct 28 04:17:...|            en|@aakashwangnoo Hi...|             0|    False|          aakashwangnoo|     7.932994049752474...|               71457972|            0|    False|                NULL|\n",
            "|'793407430344310785'|Tue Nov 01 11:00:...|   aakashwangnoo|   71457972|                592|                  471|         False|               11|         False|Don't try to be G...|    New Delhi|        False|                 234|                57|Fri Sep 04 04:55:...|            en|@AmazonHelp How m...|             0|    False|             AmazonHelp|     7.933012952559452...|               85741735|            0|    False|                NULL|\n",
            "|'793423313674571776'|Tue Nov 01 12:03:...|      AmazonHelp|   85741735|            2225442|                11366|         False|              796|         False|We answer Amazon ...|         NULL|         True|              149568|                53|Wed Oct 28 04:17:...|            en|@aakashwangnoo Hi...|             0|    False|          aakashwangnoo|     7.934074303443108...|               71457972|            0|    False|@aakashwangnoo Hi...|\n",
            "|'793423314333134850'|Tue Nov 01 12:03:...|      AmazonHelp|   85741735|            2225442|                11366|         False|              796|         False|We answer Amazon ...|         NULL|         True|              149568|                53|Wed Oct 28 04:17:...|            en|@aakashwangnoo Pl...|             0|    False|          aakashwangnoo|     7.934074303443108...|               71457972|            0|    False|                NULL|\n",
            "|'793467086869630977'|Tue Nov 01 14:57:...|   aakashwangnoo|   71457972|                592|                  471|         False|               11|         False|Don't try to be G...|    New Delhi|        False|                 234|                57|Fri Sep 04 04:55:...|            en|@AmazonHelp @amaz...|             0|    False|             AmazonHelp|     7.934233143331348...|               85741735|            0|    False|                NULL|\n",
            "|'793492430666498050'|Tue Nov 01 16:38:...|      AmazonHelp|   85741735|            2225442|                11366|         False|              796|         False|We answer Amazon ...|         NULL|         True|              149568|                53|Wed Oct 28 04:17:...|            en|@aakashwangnoo Hi...|             0|    False|          aakashwangnoo|     7.93467086869631e+17|               71457972|            0|    False|@aakashwangnoo Hi...|\n",
            "|'793535036213501952'|Tue Nov 01 19:27:...|   aakashwangnoo|   71457972|                592|                  471|         False|               11|         False|Don't try to be G...|    New Delhi|        False|                 234|                57|Fri Sep 04 04:55:...|            en|@AmazonHelp @amaz...|             0|    False|             AmazonHelp|     7.93492430666498e+17|               85741735|            0|    False|                NULL|\n",
            "|'793535221329113088'|Tue Nov 01 19:28:...|   aakashwangnoo|   71457972|                592|                  471|         False|               11|         False|Don't try to be G...|    New Delhi|        False|                 234|                57|Fri Sep 04 04:55:...|            en|@AmazonHelp @amaz...|             0|    False|          aakashwangnoo|     7.93535036213502e+17|               71457972|            0|    False|                NULL|\n",
            "|'793537840533471232'|Tue Nov 01 19:38:...|   aakashwangnoo|   71457972|                592|                  471|         False|               11|         False|Don't try to be G...|    New Delhi|        False|                 234|                57|Fri Sep 04 04:55:...|            en|@AmazonHelp @amaz...|             0|    False|             AmazonHelp|     7.93492430666498e+17|               85741735|            0|    False|@AmazonHelp @amaz...|\n",
            "|'793538125884645376'|Tue Nov 01 19:40:...|   aakashwangnoo|   71457972|                592|                  471|         False|               11|         False|Don't try to be G...|    New Delhi|        False|                 234|                57|Fri Sep 04 04:55:...|            en|@AmazonHelp @amaz...|             0|    False|          aakashwangnoo|     7.935378405334712...|               71457972|            0|    False|@AmazonHelp @amaz...|\n",
            "+--------------------+--------------------+----------------+-----------+-------------------+---------------------+--------------+-----------------+--------------+--------------------+-------------+-------------+--------------------+------------------+--------------------+--------------+--------------------+--------------+---------+-----------------------+-------------------------+-----------------------+-------------+---------+--------------------+\n",
            "only showing top 20 rows\n",
            "\n"
          ]
        }
      ],
      "source": [
        "# Load the data\n",
        "df = spark.read.csv(\"Amazon_Responded_Oct05.csv\", header=True, multiLine=True, escape=\"\\\"\")\n",
        "df.show()"
      ]
    },
    {
      "cell_type": "code",
      "source": [
        "#Check the original date form in the column \"tweet_created_at\"\n",
        "df.select(\"tweet_created_at\").show(5, truncate=False)"
      ],
      "metadata": {
        "colab": {
          "base_uri": "https://localhost:8080/"
        },
        "id": "M9fBzOXfj-FF",
        "outputId": "df433bc4-c84f-499c-e462-e67303a40947"
      },
      "execution_count": 38,
      "outputs": [
        {
          "output_type": "stream",
          "name": "stdout",
          "text": [
            "+------------------------------+\n",
            "|tweet_created_at              |\n",
            "+------------------------------+\n",
            "|Tue Nov 01 01:57:25 +0000 2016|\n",
            "|Tue Nov 01 02:39:55 +0000 2016|\n",
            "|Tue Nov 01 17:14:53 +0000 2016|\n",
            "|Tue Nov 01 17:15:12 +0000 2016|\n",
            "|Tue Nov 01 17:19:57 +0000 2016|\n",
            "+------------------------------+\n",
            "only showing top 5 rows\n",
            "\n"
          ]
        }
      ]
    },
    {
      "cell_type": "code",
      "source": [
        "#Set the legacy time parser policy\n",
        "spark.conf.set(\"spark.sql.legacy.timeParserPolicy\", \"LEGACY\")"
      ],
      "metadata": {
        "id": "qeQIZSYu3ZIj"
      },
      "execution_count": 39,
      "outputs": []
    },
    {
      "cell_type": "code",
      "source": [
        "#Transform the date form to YYYY/MM/DD and put them into a newly created column \"date\"\n",
        "from pyspark.sql import functions as F\n",
        "\n",
        "df = df.withColumn(\n",
        "    \"date\",\n",
        "    F.from_unixtime(\n",
        "        F.unix_timestamp(\"tweet_created_at\", \"EEE MMM dd HH:mm:ss ZZZZZ yyyy\"),\n",
        "        \"yyyy/MM/dd\"\n",
        "    )\n",
        ")"
      ],
      "metadata": {
        "id": "2VRzIMiekzzA"
      },
      "execution_count": 40,
      "outputs": []
    },
    {
      "cell_type": "code",
      "source": [
        "#Show the newly created column \"date\"\n",
        "df.select(\"date\").show(5, truncate=False)"
      ],
      "metadata": {
        "colab": {
          "base_uri": "https://localhost:8080/"
        },
        "id": "g9fhKL0Bk67w",
        "outputId": "a2a28dc9-893d-4398-cfec-f6ad52c8c9e3"
      },
      "execution_count": 41,
      "outputs": [
        {
          "output_type": "stream",
          "name": "stdout",
          "text": [
            "+----------+\n",
            "|date      |\n",
            "+----------+\n",
            "|2016/11/01|\n",
            "|2016/11/01|\n",
            "|2016/11/01|\n",
            "|2016/11/01|\n",
            "|2016/11/01|\n",
            "+----------+\n",
            "only showing top 5 rows\n",
            "\n"
          ]
        }
      ]
    },
    {
      "cell_type": "code",
      "source": [
        "# Group by 'user_screen_name' and 'user_id_str', and count distinct 'date'\n",
        "active_users = df.groupBy('user_screen_name', 'user_id_str').agg(countDistinct('date').alias('active_days'))"
      ],
      "metadata": {
        "id": "Tk8cYEpn3w7N"
      },
      "execution_count": 42,
      "outputs": []
    },
    {
      "cell_type": "code",
      "source": [
        "# Filter users who are active in at least five listed days\n",
        "daily_active_users = active_users.filter(col('active_days') >= 5)"
      ],
      "metadata": {
        "id": "vMbThNHFgkTD"
      },
      "execution_count": 43,
      "outputs": []
    },
    {
      "cell_type": "code",
      "source": [
        "# Show the dataframe\n",
        "daily_active_users.show(50)\n",
        "\n",
        "# Print the number of active users\n",
        "print(\"Number of active users: \", daily_active_users.count())"
      ],
      "metadata": {
        "colab": {
          "base_uri": "https://localhost:8080/"
        },
        "id": "1GwNNfrNgflJ",
        "outputId": "2f5286e3-f8ce-4c6f-e863-d53c753af78b"
      },
      "execution_count": 44,
      "outputs": [
        {
          "output_type": "stream",
          "name": "stdout",
          "text": [
            "+----------------+------------------+-----------+\n",
            "|user_screen_name|       user_id_str|active_days|\n",
            "+----------------+------------------+-----------+\n",
            "|   Gentlemen_Sam|         441572163|         16|\n",
            "|       SkullyRox|          20391647|          5|\n",
            "|  whisperandmoan|         113516042|          5|\n",
            "|  sky_regenrated|         483059773|         11|\n",
            "|          MtnrMS|        3309102108|          5|\n",
            "|        remakoul|814372928695521280|          5|\n",
            "| roxyunderwood93|         295334669|          5|\n",
            "|        TCMuffin|          35591749|          5|\n",
            "|        trallyus|          11702402|          6|\n",
            "|     ssagardutta|        2991490598|          7|\n",
            "|  ChaurasiaRohin|706032993794527232|          5|\n",
            "|  tarunwadhwa198|         130872938|          5|\n",
            "|       basusagar|          42205044|         13|\n",
            "|      Whitjoseph|         148495262|          6|\n",
            "| Savvyy_Investor|758744557315993600|          6|\n",
            "|   LadySlaughter|          15195593|          5|\n",
            "|         i_opner|        4189195819|          5|\n",
            "|   Shadowslightz|        1282432266|          5|\n",
            "|    brian_riback|         424400406|          6|\n",
            "|       DscoJesus|862074670174138368|          5|\n",
            "|   uncensoredpen|        1959501074|          5|\n",
            "|    ontherocks66|          83187396|          5|\n",
            "|       KVas92103|        2227128248|          5|\n",
            "|          fadari|          25689668|          5|\n",
            "|  Dharmendrakasa|        3711696145|          5|\n",
            "|   urvashi_mitra|         527489415|          6|\n",
            "|     r_narayan11|791166101006585857|          5|\n",
            "|  ReclusiveCoder|         144280479|          7|\n",
            "|        hartsway|        2811807426|          5|\n",
            "|  shivanient1998|        1608365852|          5|\n",
            "|     lahsivarhor|          86762070|          7|\n",
            "| juancvasdisenho|         144723151|          5|\n",
            "| ravinderkum1191|          65833857|          5|\n",
            "|    coolfrog1988|          35214799|          6|\n",
            "| ranabiswanath12|         543571642|          6|\n",
            "|      vikijain87|         141962835|          5|\n",
            "|       orion_613|789691149459914752|          6|\n",
            "|   RealMikeStack|        1529167434|          7|\n",
            "|         Asqwolf|          62498968|         12|\n",
            "|  JennyCavanaugh|         812028824|          5|\n",
            "|     navdeepsoni|           8017352|          5|\n",
            "| roadshowrigolet|         630450707|          5|\n",
            "|      iGoneViral|        4889990293|          5|\n",
            "|      brajeshjee|         319521142|          5|\n",
            "|      Soko_nafuu|740456791176253441|          5|\n",
            "|    ElliottBros1|        2317805748|          5|\n",
            "|   project_gonzo|         134300648|          6|\n",
            "|   iAshishPrasad|        2380038870|          6|\n",
            "|   Tushar_Kapila|          17463956|          6|\n",
            "|     bigcomedown|         100339412|          5|\n",
            "+----------------+------------------+-----------+\n",
            "only showing top 50 rows\n",
            "\n",
            "Number of active users:  593\n"
          ]
        }
      ]
    },
    {
      "cell_type": "markdown",
      "source": [
        "**Step 2:** A company would like to conduct an A/B test on Twitter. The experiment.txt file includes the user_id_str they selected as potential experiment targets. Please create a dataframe “experiment_user” to document the selected user id and whether they are active users (join the dataframe from step 1). Then calculate the percentage of active user and print out the result."
      ],
      "metadata": {
        "id": "fZL2Os5SXQD8"
      }
    },
    {
      "cell_type": "code",
      "source": [
        "# Load the experiment data\n",
        "experiment_df = spark.read.text(\"experiment.txt\").toDF(\"user_id_str\")"
      ],
      "metadata": {
        "id": "JccppFcrYcVL"
      },
      "execution_count": 45,
      "outputs": []
    },
    {
      "cell_type": "code",
      "source": [
        "# Create a dataframe to document the selected user id and whether they are active users\n",
        "experiment_user = experiment_df.join(daily_active_users, on=\"user_id_str\", how=\"left\")"
      ],
      "metadata": {
        "id": "2yZpJpYiYhfH"
      },
      "execution_count": 46,
      "outputs": []
    },
    {
      "cell_type": "code",
      "source": [
        "# Create a new column 'whether_active' to indicate whether the user is active\n",
        "experiment_user = experiment_user.withColumn(\"whether_active\", when(col(\"active_days\").isNull(), \"no\").otherwise(\"yes\"))"
      ],
      "metadata": {
        "id": "3t04nOxlYotW"
      },
      "execution_count": 47,
      "outputs": []
    },
    {
      "cell_type": "code",
      "source": [
        "# Shows only desired columns (\"user_id_str\" and \"whether_active\")\n",
        "experiment_user = experiment_user.drop(\"user_screen_name\", \"active_days\")"
      ],
      "metadata": {
        "id": "Ril2a7Zrs1PA"
      },
      "execution_count": 48,
      "outputs": []
    },
    {
      "cell_type": "code",
      "source": [
        "experiment_user.show(50)"
      ],
      "metadata": {
        "colab": {
          "base_uri": "https://localhost:8080/"
        },
        "id": "ALqax6AeZf-r",
        "outputId": "cc23662a-89a9-4463-bf98-79d43b2d8f6d"
      },
      "execution_count": 49,
      "outputs": [
        {
          "output_type": "stream",
          "name": "stdout",
          "text": [
            "+-----------+--------------+\n",
            "|user_id_str|whether_active|\n",
            "+-----------+--------------+\n",
            "|  163413904|            no|\n",
            "|   60004557|            no|\n",
            "|  106799492|            no|\n",
            "|  300526090|            no|\n",
            "| 2610379644|            no|\n",
            "|   62364020|            no|\n",
            "| 1112166661|            no|\n",
            "|  193060294|            no|\n",
            "|   24787056|            no|\n",
            "|  123138418|            no|\n",
            "|  281666367|            no|\n",
            "| 2908108256|            no|\n",
            "|  143515471|            no|\n",
            "| 1970607968|            no|\n",
            "|  253242925|            no|\n",
            "|  152122529|            no|\n",
            "|   71098947|            no|\n",
            "| 3285473358|           yes|\n",
            "|  315105182|            no|\n",
            "|   97424433|            no|\n",
            "| 2706101936|            no|\n",
            "| 1510968974|            no|\n",
            "|   16980347|            no|\n",
            "|  110354554|           yes|\n",
            "|   22830586|            no|\n",
            "|  174156582|            no|\n",
            "|  356667027|            no|\n",
            "| 2199664468|            no|\n",
            "| 2502172122|            no|\n",
            "|  243716471|            no|\n",
            "|   59156981|            no|\n",
            "| 2789430008|            no|\n",
            "|  314200747|            no|\n",
            "|   71457972|            no|\n",
            "|  284371894|            no|\n",
            "|   20815886|            no|\n",
            "|  257376764|            no|\n",
            "|  447433286|            no|\n",
            "|    5654472|            no|\n",
            "|   85741735|           yes|\n",
            "| 3526380922|            no|\n",
            "|   89107116|            no|\n",
            "|  370711133|            no|\n",
            "| 1209614366|            no|\n",
            "|  422175328|            no|\n",
            "|  145579921|            no|\n",
            "|  138605435|            no|\n",
            "|  902137872|           yes|\n",
            "|  269145593|            no|\n",
            "| 3098204839|            no|\n",
            "+-----------+--------------+\n",
            "only showing top 50 rows\n",
            "\n"
          ]
        }
      ]
    },
    {
      "cell_type": "code",
      "source": [
        "# Calculate the percentage of active users\n",
        "active_users_count = experiment_user.filter(experiment_user.whether_active == \"yes\").count()\n",
        "total_users_count = experiment_user.count()\n",
        "percentage_active = (active_users_count / total_users_count) * 100"
      ],
      "metadata": {
        "id": "Ug4UtOtEY0tn"
      },
      "execution_count": 50,
      "outputs": []
    },
    {
      "cell_type": "code",
      "source": [
        "# Print out the result\n",
        "print(\"Percentage of active users: \", percentage_active)"
      ],
      "metadata": {
        "colab": {
          "base_uri": "https://localhost:8080/"
        },
        "id": "uLNqPVnVY6km",
        "outputId": "78cbdf1b-31d4-4b0d-ebe2-1f5e84df2b98"
      },
      "execution_count": 51,
      "outputs": [
        {
          "output_type": "stream",
          "name": "stdout",
          "text": [
            "Percentage of active users:  2.42\n"
          ]
        }
      ]
    },
    {
      "cell_type": "markdown",
      "source": [
        "**Step 3:** The company provided their revised experiment target list in final_experiment.csv file. Compared with the former experiment.txt file, they removed several users and added a new column “info” to indicate whether the user is female (F) or male (M). Fill in the remaining columns by joining the dataframes you got from step 1&2 together and save the result in a dataframe “final_experiment”, and describe your join steps briefly."
      ],
      "metadata": {
        "id": "jxgE7x1SXc9p"
      }
    },
    {
      "cell_type": "code",
      "source": [
        "# Load the final_experiment.csv file\n",
        "final_experiment_df = spark.read.csv(\"final_experiment.csv\", header=True)"
      ],
      "metadata": {
        "id": "EkfqxcJ8cHQZ"
      },
      "execution_count": 52,
      "outputs": []
    },
    {
      "cell_type": "code",
      "source": [
        "final_experiment_df.show()\n",
        "final_experiment_df.count()"
      ],
      "metadata": {
        "colab": {
          "base_uri": "https://localhost:8080/"
        },
        "id": "EUacD3EFXfJf",
        "outputId": "dffb05e8-c4f8-41ed-e00b-64ee064b22ee"
      },
      "execution_count": 53,
      "outputs": [
        {
          "output_type": "stream",
          "name": "stdout",
          "text": [
            "+-----------+----+--------------+----------------+\n",
            "|user_id_str|info|whether_active|user_screen_name|\n",
            "+-----------+----+--------------+----------------+\n",
            "|   62364020|   F|          NULL|            NULL|\n",
            "| 2706101936|   M|          NULL|            NULL|\n",
            "|    5654472|   F|          NULL|            NULL|\n",
            "|  145579921|   F|          NULL|            NULL|\n",
            "| 2502172122|   M|          NULL|            NULL|\n",
            "|  243716471|   F|          NULL|            NULL|\n",
            "| 2610379644|   M|          NULL|            NULL|\n",
            "|  123138418|   M|          NULL|            NULL|\n",
            "|  257376764|   F|          NULL|            NULL|\n",
            "|  269145593|   M|          NULL|            NULL|\n",
            "|  370711133|   F|          NULL|            NULL|\n",
            "| 1510968974|   F|          NULL|            NULL|\n",
            "| 3526380922|   M|          NULL|            NULL|\n",
            "|  163413904|   F|          NULL|            NULL|\n",
            "|   16980347|   M|          NULL|            NULL|\n",
            "| 1209614366|   M|          NULL|            NULL|\n",
            "|  447433286|   F|          NULL|            NULL|\n",
            "| 1970607968|   M|          NULL|            NULL|\n",
            "| 3285473358|   F|          NULL|            NULL|\n",
            "| 1112166661|   F|          NULL|            NULL|\n",
            "+-----------+----+--------------+----------------+\n",
            "only showing top 20 rows\n",
            "\n"
          ]
        },
        {
          "output_type": "execute_result",
          "data": {
            "text/plain": [
              "4500"
            ]
          },
          "metadata": {},
          "execution_count": 53
        }
      ]
    },
    {
      "cell_type": "code",
      "source": [
        "#Drop the columns \"whether_active\" and \"user_screen_name\" which will be added back later after joining other tables\n",
        "final_experiment_df = final_experiment_df.drop(final_experiment_df.whether_active, final_experiment_df.user_screen_name)"
      ],
      "metadata": {
        "id": "1EIhBDu4jHXb"
      },
      "execution_count": 54,
      "outputs": []
    },
    {
      "cell_type": "code",
      "source": [
        "final_experiment_df.show()\n",
        "final_experiment_df.count()"
      ],
      "metadata": {
        "colab": {
          "base_uri": "https://localhost:8080/"
        },
        "id": "mpYTKWV0jUsL",
        "outputId": "c844ecd0-d5e0-4911-f135-8a894d289521"
      },
      "execution_count": 55,
      "outputs": [
        {
          "output_type": "stream",
          "name": "stdout",
          "text": [
            "+-----------+----+\n",
            "|user_id_str|info|\n",
            "+-----------+----+\n",
            "|   62364020|   F|\n",
            "| 2706101936|   M|\n",
            "|    5654472|   F|\n",
            "|  145579921|   F|\n",
            "| 2502172122|   M|\n",
            "|  243716471|   F|\n",
            "| 2610379644|   M|\n",
            "|  123138418|   M|\n",
            "|  257376764|   F|\n",
            "|  269145593|   M|\n",
            "|  370711133|   F|\n",
            "| 1510968974|   F|\n",
            "| 3526380922|   M|\n",
            "|  163413904|   F|\n",
            "|   16980347|   M|\n",
            "| 1209614366|   M|\n",
            "|  447433286|   F|\n",
            "| 1970607968|   M|\n",
            "| 3285473358|   F|\n",
            "| 1112166661|   F|\n",
            "+-----------+----+\n",
            "only showing top 20 rows\n",
            "\n"
          ]
        },
        {
          "output_type": "execute_result",
          "data": {
            "text/plain": [
              "4500"
            ]
          },
          "metadata": {},
          "execution_count": 55
        }
      ]
    },
    {
      "cell_type": "code",
      "source": [
        "# Create a new table by joining target users in \"final_experiment_df\" and \"whether_active\" from \"experiment_user\"\n",
        "df_Temp = final_experiment_df.join(experiment_user, on=\"user_id_str\", how=\"left\")\n",
        "\n",
        "df_Temp.show()\n",
        "df_Temp.count()"
      ],
      "metadata": {
        "colab": {
          "base_uri": "https://localhost:8080/"
        },
        "id": "W8gzLgLmNIza",
        "outputId": "ce85bbac-6c35-4516-c6a8-4ba421ca3719"
      },
      "execution_count": 59,
      "outputs": [
        {
          "output_type": "stream",
          "name": "stdout",
          "text": [
            "+-----------+----+--------------+\n",
            "|user_id_str|info|whether_active|\n",
            "+-----------+----+--------------+\n",
            "| 1112166661|   F|            no|\n",
            "| 1209614366|   M|            no|\n",
            "|  123138418|   M|            no|\n",
            "|  145579921|   F|            no|\n",
            "| 1510968974|   F|            no|\n",
            "|  163413904|   F|            no|\n",
            "|   16980347|   M|            no|\n",
            "| 1970607968|   M|            no|\n",
            "|  243716471|   F|            no|\n",
            "| 2502172122|   M|            no|\n",
            "|  257376764|   F|            no|\n",
            "| 2610379644|   M|            no|\n",
            "|  269145593|   M|            no|\n",
            "| 2706101936|   M|            no|\n",
            "| 3285473358|   F|           yes|\n",
            "| 3526380922|   M|            no|\n",
            "|  370711133|   F|            no|\n",
            "|  422175328|   M|            no|\n",
            "|  447433286|   F|            no|\n",
            "|    5654472|   F|            no|\n",
            "+-----------+----+--------------+\n",
            "only showing top 20 rows\n",
            "\n"
          ]
        },
        {
          "output_type": "execute_result",
          "data": {
            "text/plain": [
              "4500"
            ]
          },
          "metadata": {},
          "execution_count": 59
        }
      ]
    },
    {
      "cell_type": "code",
      "source": [
        "# Use outer join to make sure all of the new targets are included\n",
        "# We'll filter out the removed targets from experiment_users (whose \"info\" is NULL)\n",
        "df_Temp = df_Temp.join(daily_active_users.select(\"user_id_str\", \"user_screen_name\"), on=\"user_id_str\", how=\"outer\")\n",
        "\n",
        "df_Temp.show()\n",
        "df_Temp.count()"
      ],
      "metadata": {
        "colab": {
          "base_uri": "https://localhost:8080/"
        },
        "id": "jw5xaO2JQibv",
        "outputId": "d48c4b2f-3c20-43ca-80f5-32770034c648"
      },
      "execution_count": 60,
      "outputs": [
        {
          "output_type": "stream",
          "name": "stdout",
          "text": [
            "+-----------+----+--------------+----------------+\n",
            "|user_id_str|info|whether_active|user_screen_name|\n",
            "+-----------+----+--------------+----------------+\n",
            "| 1000196282|   F|            no|            NULL|\n",
            "|  100049952|   M|            no|            NULL|\n",
            "|  100054985|   F|            no|            NULL|\n",
            "| 1001811912|   F|            no|            NULL|\n",
            "| 1002018746|   F|            no|            NULL|\n",
            "|  100209462|   M|            no|            NULL|\n",
            "|  100214244|NULL|          NULL| sourabhnandwana|\n",
            "| 1002186955|   F|            no|            NULL|\n",
            "|  100339412|   M|           yes|     bigcomedown|\n",
            "|  100414514|   F|            no|            NULL|\n",
            "|  100468594|   F|           yes|           opjha|\n",
            "|  100492517|   M|            no|            NULL|\n",
            "|  100523546|   F|            no|            NULL|\n",
            "|  100564102|   F|            no|            NULL|\n",
            "|  100613504|NULL|          NULL|          sng628|\n",
            "|  100736255|   F|            no|            NULL|\n",
            "| 1008060450|   M|           yes|    Steph_CO7272|\n",
            "|  100812916|   M|            no|            NULL|\n",
            "|  100856463|   M|            no|            NULL|\n",
            "|  101076998|   F|            no|            NULL|\n",
            "+-----------+----+--------------+----------------+\n",
            "only showing top 20 rows\n",
            "\n"
          ]
        },
        {
          "output_type": "execute_result",
          "data": {
            "text/plain": [
              "4997"
            ]
          },
          "metadata": {},
          "execution_count": 60
        }
      ]
    },
    {
      "cell_type": "code",
      "source": [
        "# For inactive users that cannot be found in “daily_active_users”, “user_screen_name” will be filled with “Not found”\n",
        "df_Temp = df_Temp.withColumn(\"user_screen_name\", F.when(F.col(\"whether_active\") == \"no\", \"Not found\").otherwise(F.col(\"user_screen_name\")))\n",
        "\n",
        "# Drop rows where 'info' column is NULL\n",
        "df_Temp = df_Temp.filter(df_Temp.info.isNotNull())\n",
        "\n",
        "df_Temp.show()\n",
        "df_Temp.count()"
      ],
      "metadata": {
        "colab": {
          "base_uri": "https://localhost:8080/"
        },
        "id": "eUkJVQXySjVy",
        "outputId": "170e6562-6c89-40c8-f8a5-074fe90cfc8d"
      },
      "execution_count": 61,
      "outputs": [
        {
          "output_type": "stream",
          "name": "stdout",
          "text": [
            "+-----------+----+--------------+----------------+\n",
            "|user_id_str|info|whether_active|user_screen_name|\n",
            "+-----------+----+--------------+----------------+\n",
            "| 1112166661|   F|            no|       Not found|\n",
            "| 1209614366|   M|            no|       Not found|\n",
            "|  123138418|   M|            no|       Not found|\n",
            "|  145579921|   F|            no|       Not found|\n",
            "| 1510968974|   F|            no|       Not found|\n",
            "|  163413904|   F|            no|       Not found|\n",
            "|   16980347|   M|            no|       Not found|\n",
            "| 1970607968|   M|            no|       Not found|\n",
            "|  243716471|   F|            no|       Not found|\n",
            "| 2502172122|   M|            no|       Not found|\n",
            "|  257376764|   F|            no|       Not found|\n",
            "| 2610379644|   M|            no|       Not found|\n",
            "|  269145593|   M|            no|       Not found|\n",
            "| 2706101936|   M|            no|       Not found|\n",
            "| 3285473358|   F|           yes|    iwritegarima|\n",
            "| 3526380922|   M|            no|       Not found|\n",
            "|  370711133|   F|            no|       Not found|\n",
            "|  422175328|   M|            no|       Not found|\n",
            "|  447433286|   F|            no|       Not found|\n",
            "|    5654472|   F|            no|       Not found|\n",
            "+-----------+----+--------------+----------------+\n",
            "only showing top 20 rows\n",
            "\n"
          ]
        },
        {
          "output_type": "execute_result",
          "data": {
            "text/plain": [
              "4500"
            ]
          },
          "metadata": {},
          "execution_count": 61
        }
      ]
    },
    {
      "cell_type": "code",
      "source": [
        "# Save the three dataframe as CSV files\n",
        "daily_active_users.write.csv('daily_active_users.csv', header=True)\n",
        "\n",
        "experiment_user.write.csv('experiment_user.csv', header=True)\n",
        "\n",
        "final_experiment_df.write.csv('Final_experiment.csv', header=True)\n"
      ],
      "metadata": {
        "id": "WX3j76sodGOK"
      },
      "execution_count": null,
      "outputs": []
    }
  ]
}